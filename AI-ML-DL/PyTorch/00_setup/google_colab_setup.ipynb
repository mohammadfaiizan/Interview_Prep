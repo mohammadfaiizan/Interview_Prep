{
 "cells": [
  {
   "cell_type": "code",
   "execution_count": null,
   "metadata": {},
   "outputs": [
    {
     "name": "stdout",
     "output_type": "stream",
     "text": [
      "cpu\n",
      "CPU Time: 0.014887571334838867 seconds\n",
      "cpu\n",
      "GPU Time: 0.009665966033935547 seconds\n"
     ]
    }
   ],
   "source": [
    "import torch\n",
    "import time\n",
    "\n",
    "N = 1000\n",
    "\n",
    "def cpu_multiplication():\n",
    "  device = torch.device(\"cpu\")\n",
    "  print(device)\n",
    "  A = torch.randn(N, N, device=device)\n",
    "  B = torch.randn(N, N, device=device)\n",
    "  start = time.time()\n",
    "  C = torch.matmul(A, B)\n",
    "  end = time.time()\n",
    "  print(f\"CPU Time: { end - start} seconds\")\n",
    "\n",
    "def gpu_multiplication():\n",
    "  device = \"cuda\" if torch.cuda.is_available() else 'cpu'\n",
    "  print(device)\n",
    "  # device = torch.device(\"cuda\")\n",
    "  A = torch.randn(N, N, device= device)\n",
    "  B = torch.randn(N, N, device= device)\n",
    "  start = time.time()\n",
    "  C = torch.matmul(A, B)\n",
    "  if device == \"cuda\":\n",
    "    torch.cuda.synchronize()\n",
    "  end = time.time()\n",
    "  print(f\"GPU Time: {end - start} seconds\")\n",
    "\n",
    "\n",
    "cpu_multiplication()\n",
    "gpu_multiplication()"
   ]
  }
 ],
 "metadata": {
  "kernelspec": {
   "display_name": "ENV_PREP",
   "language": "python",
   "name": "python3"
  },
  "language_info": {
   "codemirror_mode": {
    "name": "ipython",
    "version": 3
   },
   "file_extension": ".py",
   "mimetype": "text/x-python",
   "name": "python",
   "nbconvert_exporter": "python",
   "pygments_lexer": "ipython3",
   "version": "3.12.2"
  }
 },
 "nbformat": 4,
 "nbformat_minor": 2
}
